{
  "nbformat": 4,
  "nbformat_minor": 0,
  "metadata": {
    "colab": {
      "provenance": [],
      "authorship_tag": "ABX9TyMM49QW4eiFRzNtGPI9nuas",
      "include_colab_link": true
    },
    "kernelspec": {
      "name": "python3",
      "display_name": "Python 3"
    },
    "language_info": {
      "name": "python"
    }
  },
  "cells": [
    {
      "cell_type": "markdown",
      "metadata": {
        "id": "view-in-github",
        "colab_type": "text"
      },
      "source": [
        "<a href=\"https://colab.research.google.com/github/MarianaNuri/clon-google-b7-g1/blob/main/Pr%C3%A1ctica_herencia.ipynb\" target=\"_parent\"><img src=\"https://colab.research.google.com/assets/colab-badge.svg\" alt=\"Open In Colab\"/></a>"
      ]
    },
    {
      "cell_type": "code",
      "execution_count": null,
      "metadata": {
        "id": "VtvzCK5Wv6Ss"
      },
      "outputs": [],
      "source": [
        "class SerVivo():\n",
        "  def __init__(self, tipo, alimentarse, domestico):\n",
        "    self.tipo = tipo\n",
        "    self.alimentarse = alimentarse\n",
        "    self.domestico = domestico\n",
        "  def __repr__(self):\n",
        "    return f\"Animal: {self.tipo}, {self.alimentarse}, {self.domestico} \"\n"
      ]
    },
    {
      "cell_type": "code",
      "source": [
        "class Mamifero(SerVivo):\n",
        "  def __init__(self, respirar, alimentarse,domestico,caminar):\n",
        "    super().__init__(respirar,alimentarse,domestico)\n",
        "    self.caminar = caminar\n",
        "  def __repr__(self):\n",
        "    return f\"Mamifero: {self.tipo}, {self.alimentarse}, {self.domestico}, {self.caminar} \"\n"
      ],
      "metadata": {
        "id": "DheC40H32UGA"
      },
      "execution_count": null,
      "outputs": []
    },
    {
      "cell_type": "code",
      "source": [
        "animal=Mamifero(\"lobo\",\"carne\",\"no\",\"cuatro patas\")\n",
        "print(animal)"
      ],
      "metadata": {
        "colab": {
          "base_uri": "https://localhost:8080/"
        },
        "id": "Ofk4Vkr-6upG",
        "outputId": "935f3344-30d3-4b7e-9339-7296cf63c57b"
      },
      "execution_count": null,
      "outputs": [
        {
          "output_type": "stream",
          "name": "stdout",
          "text": [
            "Mamifero: lobo, carne, no, cuatro patas \n"
          ]
        }
      ]
    },
    {
      "cell_type": "code",
      "source": [
        "class Movil():\n",
        "  def __init__(self, marca, modelo, color):\n",
        "    self.marca = marca\n",
        "    self.modelo = modelo\n",
        "    self.color = color\n",
        "  def __repr__(self):\n",
        "    return f\"Movil: {self.marca}, {self.modelo}, {self.color} \""
      ],
      "metadata": {
        "id": "HxtrgDEe_hMy"
      },
      "execution_count": null,
      "outputs": []
    },
    {
      "cell_type": "code",
      "source": [],
      "metadata": {
        "id": "ZMc24iQwCSi8"
      },
      "execution_count": null,
      "outputs": []
    },
    {
      "cell_type": "code",
      "source": [
        "class Telefono(Movil):\n",
        "  def __init__(self, marca, modelo, color, camara):\n",
        "    super().__init__(marca, modelo, color)\n",
        "    self.camara = camara\n",
        "  def __repr__(self):\n",
        "    return f\"Telefono: {self.marca}, {self.modelo}, {self.color}, {self.camara} \""
      ],
      "metadata": {
        "id": "6Ju3a7AN_n-q"
      },
      "execution_count": null,
      "outputs": []
    },
    {
      "cell_type": "code",
      "source": [
        "mytel = Telefono(\"samsung\",\"S24 ultra\", \"azul metalico\", \"Pro-Grade\")\n",
        "print(mytel)"
      ],
      "metadata": {
        "colab": {
          "base_uri": "https://localhost:8080/"
        },
        "id": "clVXxLdE_wCW",
        "outputId": "9fbf6287-7b18-415f-8b53-b45f8909d2b1"
      },
      "execution_count": null,
      "outputs": [
        {
          "output_type": "stream",
          "name": "stdout",
          "text": [
            "Telefono: samsung, S24 ultra, azul metalico, Pro-Grade \n"
          ]
        }
      ]
    },
    {
      "cell_type": "code",
      "source": [
        "class Persona():\n",
        "  def __init__(self, nombre, apellido):\n",
        "    self.nombre = nombre\n",
        "    self.apellido = apellido\n"
      ],
      "metadata": {
        "id": "A35dRcUpCWsK"
      },
      "execution_count": null,
      "outputs": []
    },
    {
      "cell_type": "code",
      "source": [
        "class Alumno(Persona):\n",
        "  def __init__(self, nombre, apellido, carrera):\n",
        "    super().__init__(nombre, apellido)\n",
        "    self.carrera = carrera\n",
        "    print(f\"Alumno: {self.nombre}, {self.apellido}, {self.carrera}\")"
      ],
      "metadata": {
        "id": "YGs8B7UVCqJb"
      },
      "execution_count": null,
      "outputs": []
    },
    {
      "cell_type": "code",
      "source": [
        "miEstudiante = Alumno(\"Mariana\", \"Chavez Nuricumbo\", \"Ing. en Sistemas\")\n"
      ],
      "metadata": {
        "colab": {
          "base_uri": "https://localhost:8080/"
        },
        "id": "UYbBvWA5C15q",
        "outputId": "eba9b928-0a97-4990-b260-09687b5c8339"
      },
      "execution_count": null,
      "outputs": [
        {
          "output_type": "stream",
          "name": "stdout",
          "text": [
            "Alumno: Mariana, Chavez Nuricumbo, Ing. en Sistemas\n"
          ]
        }
      ]
    }
  ]
}